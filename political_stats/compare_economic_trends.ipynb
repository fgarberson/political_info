{
 "cells": [
  {
   "cell_type": "code",
   "execution_count": null,
   "metadata": {
    "collapsed": true
   },
   "outputs": [],
   "source": [
    "import pandas as pd\n",
    "import matplotlib.pyplot as plt\n",
    "import collections\n",
    "import copy as cp\n",
    "%matplotlib inline"
   ]
  },
  {
   "cell_type": "code",
   "execution_count": null,
   "metadata": {},
   "outputs": [],
   "source": [
    "economic_datasets = collections.OrderedDict([\n",
    " \n",
    "    ('real_gdp_growth_rate', {'filename': 'data/A191RL1Q225SBEA_real_gross_domestic_product.csv',\n",
    "            'column_rename': {'A191RL1Q225SBEA': 'real_gdp_growth_rate'}, 'ylabel': 'Real annual GDP growth rate'}),\n",
    "    ('sticky_inflation_rate', {'filename': 'data/CORESTICKM158SFRBATL_sticky_consumer_price_index_annual_rate_of_change_less_food_and_energy.csv',\n",
    "            'column_rename': {'CORESTICKM158SFRBATL': 'sticky_inflation_rate'}, 'ylabel': 'Annual inflation rate (ignoring food and energy)'}),\n",
    "    ('federal_deficit_percent_gdp', {'filename': 'data/FYFSGDA188S_federal_surplus_or_deficit_as_percent_of_gdp.csv',\n",
    "            'column_rename': {'FYFSGDA188S': 'federal_deficit_percent_gdp'}, 'ylabel': 'Annual federal deficit (% GDP)'}),\n",
    "    ('nonfarm_job_growth_monthly_thousands', {'filename': 'data/PAYEMS_total_nonfarm_jobs.csv', 'column_rename':\\\n",
    "            {'PAYEMS': 'nonfarm_jobs_thousands'}, 'ylabel': 'Monthly nonfarm job growth rate (thousands)',\n",
    "            'apply_delta_to_column': 'nonfarm_jobs_thousands'}),\n",
    "#     ('u3_unemployment', {'filename': 'data/UNRATE_civilian_unemployment_rate_U3.csv'}),\n",
    "#     ('u6_unemployment', {'filename': 'data/U6UNEM6AR_u6_unemployment_rate.csv'}),\n",
    "\n",
    "])\n",
    "\n"
   ]
  },
  {
   "cell_type": "code",
   "execution_count": null,
   "metadata": {
    "collapsed": true
   },
   "outputs": [],
   "source": [
    "def make_time_series_plot(input_df, y_column, xlabel, ylabel, xlim, ylim):\n",
    "    plt.figure(figsize=(16,8))\n",
    "    plt.grid(True)\n",
    "    plt.plot(input_df['DATE'], input_df[y_column])\n",
    "    plt.xlabel(xlabel, fontsize=22)\n",
    "    plt.ylabel(ylabel, fontsize=22)\n",
    "    if xlim is not None:\n",
    "        plt.gca().set_xlim(xlim)\n",
    "    if ylim is not None:\n",
    "        plt.gca().set_ylim(ylim)\n",
    "    plt.plot()"
   ]
  },
  {
   "cell_type": "code",
   "execution_count": null,
   "metadata": {},
   "outputs": [],
   "source": [
    "combined_df = None\n",
    "for metric_key, metric_instructions in economic_datasets.iteritems():\n",
    "    print metric_key, ', instructions: ', metric_instructions\n",
    "    this_df = pd.read_csv(metric_instructions['filename'])\n",
    "    this_df['DATE'] = pd.to_datetime(this_df['DATE'])\n",
    "    this_df = this_df.rename(columns=metric_instructions['column_rename'])\n",
    "#     if metric_instructions.get('apply_delta', False):\n",
    "#         this_df[metric_key] = this_df[]\n",
    "    if metric_instructions.get('apply_delta_to_column', None) is not None:\n",
    "        print 'Do Xform of ', this_df.head(10)\n",
    "        this_df[metric_key] = this_df[metric_instructions['apply_delta_to_column']].diff()\n",
    "        #this_df[metric_key] = this_df.apply(metric_instructions['transform_function'], axis=1)\n",
    "    print 'this_df: ', this_df.head(10)\n",
    "    \n",
    "    if combined_df is None:\n",
    "        combined_df = cp.deepcopy(this_df)\n",
    "    else:\n",
    "        combined_df = pd.merge(combined_df, this_df, on='DATE', how='outer')\n",
    "combined_df = combined_df.sort_values('DATE')\n",
    "print 'combined_df: ', combined_df"
   ]
  },
  {
   "cell_type": "code",
   "execution_count": null,
   "metadata": {
    "collapsed": true
   },
   "outputs": [],
   "source": [
    "def make_time_series_plot(input_df, y_column, ylabel, xlim, ylim):\n",
    "    filtered_input_df = input_df[pd.notnull(input_df[y_column])]\n",
    "    plt.figure(figsize=(16,8))\n",
    "    plt.grid(True)\n",
    "    print 'Plot ', filtered_input_df[['DATE', y_column]]\n",
    "    plt.plot(filtered_input_df['DATE'].values, filtered_input_df[y_column].values)\n",
    "    plt.xlabel('Date', fontsize=22)\n",
    "    plt.ylabel(ylabel, fontsize=22)\n",
    "    if xlim is not None:\n",
    "        plt.gca().set_xlim(xlim)\n",
    "    if ylim is not None:\n",
    "        plt.gca().set_ylim(ylim)\n",
    "    plt.plot()"
   ]
  },
  {
   "cell_type": "code",
   "execution_count": null,
   "metadata": {
    "scrolled": false
   },
   "outputs": [],
   "source": [
    "for metric_key, metric_instructions in economic_datasets.iteritems():\n",
    "    print 'metric_instructions: ', metric_instructions\n",
    "    make_time_series_plot(combined_df, y_column=metric_key, ylabel=metric_instructions['ylabel'], xlim=None, ylim=None)"
   ]
  },
  {
   "cell_type": "code",
   "execution_count": null,
   "metadata": {
    "collapsed": true
   },
   "outputs": [],
   "source": []
  }
 ],
 "metadata": {
  "kernelspec": {
   "display_name": "Python 2",
   "language": "python",
   "name": "python2"
  },
  "language_info": {
   "codemirror_mode": {
    "name": "ipython",
    "version": 2
   },
   "file_extension": ".py",
   "mimetype": "text/x-python",
   "name": "python",
   "nbconvert_exporter": "python",
   "pygments_lexer": "ipython2",
   "version": "2.7.13"
  }
 },
 "nbformat": 4,
 "nbformat_minor": 2
}
