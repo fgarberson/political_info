{
 "cells": [
  {
   "cell_type": "code",
   "execution_count": null,
   "metadata": {},
   "outputs": [],
   "source": [
    "import pandas as pd\n",
    "import matplotlib.pyplot as plt\n",
    "import numpy as np\n",
    "import collections\n",
    "import copy as cp\n",
    "%matplotlib inline\n",
    "\n"
   ]
  },
  {
   "cell_type": "code",
   "execution_count": null,
   "metadata": {},
   "outputs": [],
   "source": [
    "economic_datasets = collections.OrderedDict([\n",
    " \n",
    "    ('real_gdp_growth_rate', {'filename': 'data/A191RL1Q225SBEA_real_gross_domestic_product.csv',\n",
    "            'column_rename': {'A191RL1Q225SBEA': 'real_gdp_growth_rate'}}),\n",
    "    ('sticky_inflation_rate', {'filename': 'data/CORESTICKM158SFRBATL_sticky_consumer_price_index_annual_rate_of_change_less_food_and_energy.csv',\n",
    "            'column_rename': {'CORESTICKM158SFRBATL': 'sticky_inflation_rate'}}),\n",
    "    #('federal_deficit_percent_gdp', {'filename': 'data/GFDEGDQ188S_federal_debt_to_GDP.csv', 'column_rename':\\\n",
    "    #        {'GFDEGDQ188S': 'federal_debt_percent_gdp'}, 'convert_this_column_to_annual_percent_increase':\\\n",
    "    #        'federal_debt_percent_gdp', 'frequency': 'quarterly'}),\n",
    "    #### This is annual\n",
    "    ('federal_deficit_percent_gdp', {'filename': 'data/FYFSGDA188S_federal_surplus_or_deficit_as_percent_of_gdp.csv',\n",
    "            'column_rename': {'FYFSGDA188S': 'federal_deficit_percent_gdp'}, 'invert': True}),\n",
    "    ('nonfarm_job_growth_monthly_thousands', {'filename': 'data/PAYEMS_total_nonfarm_jobs.csv', 'column_rename':\\\n",
    "            {'PAYEMS': 'nonfarm_jobs_thousands'},  'apply_delta_to_column': 'nonfarm_jobs_thousands'}),\n",
    "    ('federal_expenditure_percent_annual_growth_rate', {'filename': 'data/FGEXPND_federal_government_current_expenditures_in_billions.csv',\n",
    "            'column_rename': {'FGEXPND': 'federal_expenditures_billions'},\n",
    "            'convert_this_column_to_annual_percent_increase': 'federal_expenditures_billions', 'frequency': 'quarterly'}),\n",
    "    ('s_and_p_500_percent_annual_growth_rate', {'filename': 'data/s_and_p_500_by_month.csv',\n",
    "            'convert_this_column_to_annual_percent_increase': 's_and_p_500_value', 'frequency': 'monthly'}),\n",
    "#     ('u3_unemployment', {'filename': 'data/UNRATE_civilian_unemployment_rate_U3.csv'}),\n",
    "#     ('u6_unemployment', {'filename': 'data/U6UNEM6AR_u6_unemployment_rate.csv'}),\n",
    "\n",
    "])\n",
    "\n"
   ]
  },
  {
   "cell_type": "code",
   "execution_count": null,
   "metadata": {
    "collapsed": true
   },
   "outputs": [],
   "source": [
    "def make_time_series_plot(input_df, y_column, xlabel, ylabel, xlim, ylim):\n",
    "    plt.figure(figsize=(16,8))\n",
    "    plt.grid(True)\n",
    "    plt.plot(input_df['DATE'], input_df[y_column])\n",
    "    plt.xlabel(xlabel, fontsize=22)\n",
    "    plt.ylabel(ylabel, fontsize=22)\n",
    "    if xlim is not None:\n",
    "        plt.gca().set_xlim(xlim)\n",
    "    if ylim is not None:\n",
    "        plt.gca().set_ylim(ylim)\n",
    "    plt.plot()"
   ]
  },
  {
   "cell_type": "code",
   "execution_count": null,
   "metadata": {},
   "outputs": [],
   "source": [
    "\n",
    "\n",
    "combined_df = None\n",
    "for metric_key, metric_instructions in economic_datasets.iteritems():\n",
    "    #print metric_key, ', instructions: ', metric_instructions\n",
    "    this_df = pd.read_csv(metric_instructions['filename'])\n",
    "    this_df['DATE'] = pd.to_datetime(this_df['DATE'])\n",
    "    this_df = this_df.sort_values('DATE')\n",
    "    if 'column_rename' in metric_instructions.keys():\n",
    "        this_df = this_df.rename(columns=metric_instructions['column_rename'])\n",
    "#     if metric_instructions.get('apply_delta', False):\n",
    "#         this_df[metric_key] = this_df[]\n",
    "    if metric_instructions.get('apply_delta_to_column', None) is not None:\n",
    "        print 'Do Xform of ', this_df.head(10)\n",
    "        if metric_instructions.get('delta_size', None) is None:\n",
    "            delta_size = 1\n",
    "        else:\n",
    "            delta_size =  metric_instructions['delta_size']\n",
    "        print 'metric_key: ', metric_key, ', do delta'\n",
    "        this_df[metric_key] = this_df[metric_instructions['apply_delta_to_column']].diff(periods=delta_size)\n",
    "    if metric_instructions.get('convert_this_column_to_annual_percent_increase', None):\n",
    "        convert_this_col = metric_instructions['convert_this_column_to_annual_percent_increase']\n",
    "        if metric_instructions['frequency']=='monthly':\n",
    "            delta_offset = 12\n",
    "        elif metric_instructions['frequency']=='quarterly':\n",
    "            delta_offset = 4\n",
    "        else:\n",
    "            raise ValueError('Frequency '+frequency+' not understood')\n",
    "        one_year_future_values = this_df[convert_this_col].values[delta_offset:]\n",
    "        current_values = this_df[convert_this_col].values[:-delta_offset]\n",
    "        percent_increase_values = [np.nan]*delta_offset\n",
    "        for current_value, one_year_future_value in zip(current_values, one_year_future_values):\n",
    "            percent_increase_values.append(100 * (one_year_future_value - current_value) / current_value)\n",
    "        this_df[metric_key] = percent_increase_values\n",
    "    if metric_instructions.get('invert', False):\n",
    "        this_df[metric_key] = this_df[metric_key] * -1\n",
    "        #this_df[metric_key] = this_df.apply(metric_instructions['transform_function'], axis=1)\n",
    "    #print 'this_df: ', this_df.head(10)\n",
    "    \n",
    "    if combined_df is None:\n",
    "        combined_df = cp.deepcopy(this_df)\n",
    "    else:\n",
    "        combined_df = pd.merge(combined_df, this_df, on='DATE', how='outer')\n",
    "combined_df = combined_df.sort_values('DATE')\n",
    "print 'combined_df: ', combined_df"
   ]
  },
  {
   "cell_type": "code",
   "execution_count": null,
   "metadata": {
    "collapsed": true
   },
   "outputs": [],
   "source": [
    "def make_time_series_plot(input_df, y_column, ylabel, xlim, ylim):\n",
    "    filtered_input_df = input_df[pd.notnull(input_df[y_column])]\n",
    "    plt.figure(figsize=(16,8))\n",
    "    plt.tick_params(axis='both', which='major', labelsize=18)\n",
    "    plt.grid(True)\n",
    "    #print 'Plot ', filtered_input_df[['DATE', y_column]]\n",
    "    plt.plot(filtered_input_df['DATE'].values, filtered_input_df[y_column].values)\n",
    "    plt.xlabel('Date', fontsize=22)\n",
    "    plt.ylabel(ylabel, fontsize=22)\n",
    "    if xlim is not None:\n",
    "        plt.gca().set_xlim(xlim)\n",
    "    if ylim is not None:\n",
    "        plt.gca().set_ylim(ylim)\n",
    "    plt.plot()"
   ]
  },
  {
   "cell_type": "code",
   "execution_count": null,
   "metadata": {
    "scrolled": false
   },
   "outputs": [],
   "source": [
    "timeseries_instructions = collections.OrderedDict([\n",
    "    ('real_gdp_growth_rate', {'ylabel': 'Real annual GDP growth rate'}),\n",
    "    ('sticky_inflation_rate', {'ylabel': 'Annual inflation rate (ignoring food and energy)'}),\n",
    "    ('federal_deficit_percent_gdp', {'ylabel': 'Annual federal deficit (% GDP)'}),\n",
    "    ('nonfarm_job_growth_monthly_thousands', {'ylabel': 'Monthly nonfarm job growth rate (thousands)'}),\n",
    "    ('federal_expenditure_percent_annual_growth_rate', {'ylabel': 'Annual federal spending growth rate (%)'}),\n",
    "    ('s_and_p_500_percent_annual_growth_rate', {'ylabel': 'S&P500 annual growth rate (%)'})\n",
    "])\n",
    "\n",
    "for metric_key, metric_instructions in timeseries_instructions.iteritems():\n",
    "    make_time_series_plot(combined_df, y_column=metric_key, ylabel=metric_instructions['ylabel'], xlim=None, ylim=None)"
   ]
  },
  {
   "cell_type": "code",
   "execution_count": null,
   "metadata": {},
   "outputs": [],
   "source": [
    "def make_annual_plots(input_df, y_column, ylabel, ylim, plot_type):\n",
    "    input_df['year'] = input_df['DATE'].dt.year\n",
    "    input_df['month'] = input_df['DATE'].dt.month\n",
    "    input_df['quarter'] = input_df['month'].apply(lambda x: int((x+2) / 4) + 1)\n",
    "\n",
    "    x_column = 'month' if plot_type == 'monthly' else 'quarter'\n",
    "    to_plot_df = input_df[pd.notnull(input_df[y_column])]\n",
    "    df_2014 = to_plot_df[to_plot_df['year']==2014]\n",
    "    df_2015 = to_plot_df[to_plot_df['year']==2015]\n",
    "    df_2016 = to_plot_df[to_plot_df['year']==2016]\n",
    "    df_2017 = to_plot_df[to_plot_df['year']==2017]\n",
    "    \n",
    "    plt.figure(figsize=(16,12))\n",
    "    plt.tick_params(axis='both', which='major', labelsize=18)\n",
    "    plt.grid(True)\n",
    "    xlim = [1,12] if plot_type == 'monthly' else [1,4]\n",
    "    if len(df_2014)==1:\n",
    "        print df_2014[y_column].values\n",
    "        #plt.bar(x=[0.], height=df_2014[y_column].values, width=0.2, color='black')\n",
    "        plt.bar([0.1], height=df_2016[y_column].values, width=0.2, color='blue')\n",
    "        plt.bar([0.35], height=df_2015[y_column].values, width=0.2, color='red')\n",
    "        plt.bar([0.6], height=df_2017[y_column].values, width=0.2, color='purple')\n",
    "        plt.bar([0.85], height=df_2014[y_column].values, width=0.2, color='black')\n",
    "        plt.xticks([0.1, 0.35, 0.6, 0.85], ['?', '??', '???', '????'], rotation='vertical')\n",
    "        xlim=[0., 1.]\n",
    "\n",
    "    else:\n",
    "        plt.plot(df_2016[x_column].values, df_2016[y_column].values, color='blue', label='?')\n",
    "        plt.plot(df_2015[x_column].values, df_2015[y_column].values, color='red', label='??')       \n",
    "        plt.plot(df_2017[x_column].values, df_2017[y_column].values, color='purple', label='???')\n",
    "        plt.plot(df_2014[x_column].values, df_2014[y_column].values, color='black', label='????')\n",
    "        plt.legend(fontsize=22)\n",
    "        xlabel = 'Month' if plot_type == 'monthly' else 'Quarter'\n",
    "        plt.xlabel(xlabel, fontsize=22)\n",
    "\n",
    "    plt.ylabel(ylabel, fontsize=22)\n",
    "    plt.gca().set_xlim(xlim)\n",
    "    if ylim is not None:\n",
    "        plt.gca().set_ylim(ylim)\n",
    "    plt.show()"
   ]
  },
  {
   "cell_type": "code",
   "execution_count": null,
   "metadata": {
    "scrolled": false
   },
   "outputs": [],
   "source": [
    "annual_plot_instructions = collections.OrderedDict([\n",
    "    ('real_gdp_growth_rate', {'ylabel': 'Real annual GDP growth rate', 'plot_type': 'quarterly'}),\n",
    "    ('sticky_inflation_rate', {'ylabel': 'Annual inflation rate (ignoring food and energy)', 'plot_type': 'monthly'}),\n",
    "    ('federal_deficit_percent_gdp', {'ylabel': 'Annual federal deficit (% GDP)', 'plot_type': 'monthly'}),\n",
    "    ('nonfarm_job_growth_monthly_thousands', {'ylabel': 'Monthly nonfarm job growth rate (thousands)', 'plot_type': 'monthly'}),\n",
    "    ('federal_expenditure_percent_annual_growth_rate', {'ylabel': 'Annual federal spending growth rate (%)', 'plot_type': 'quarterly'}),\n",
    "    ('s_and_p_500_percent_annual_growth_rate', {'ylabel': 'S&P500 annual growth rate (%)', 'plot_type': 'monthly'})\n",
    "])\n",
    "\n",
    "for metric_key, metric_instructions in annual_plot_instructions.iteritems():\n",
    "    #print 'metric_instructions: ', metric_instructions\n",
    "    make_annual_plots(combined_df, y_column=metric_key, ylabel=metric_instructions['ylabel'], ylim=None, plot_type=metric_instructions['plot_type'])"
   ]
  },
  {
   "cell_type": "code",
   "execution_count": null,
   "metadata": {
    "collapsed": true
   },
   "outputs": [],
   "source": []
  },
  {
   "cell_type": "code",
   "execution_count": null,
   "metadata": {
    "collapsed": true
   },
   "outputs": [],
   "source": []
  }
 ],
 "metadata": {
  "kernelspec": {
   "display_name": "Python 2",
   "language": "python",
   "name": "python2"
  },
  "language_info": {
   "codemirror_mode": {
    "name": "ipython",
    "version": 2
   },
   "file_extension": ".py",
   "mimetype": "text/x-python",
   "name": "python",
   "nbconvert_exporter": "python",
   "pygments_lexer": "ipython2",
   "version": "2.7.13"
  }
 },
 "nbformat": 4,
 "nbformat_minor": 2
}
