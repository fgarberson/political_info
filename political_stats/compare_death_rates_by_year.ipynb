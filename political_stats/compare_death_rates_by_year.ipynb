{
 "cells": [
  {
   "cell_type": "code",
   "execution_count": null,
   "metadata": {
    "collapsed": true
   },
   "outputs": [],
   "source": [
    "import pandas as pd\n",
    "import matplotlib.pyplot as plt\n",
    "%matplotlib inline\n",
    "import numpy as np"
   ]
  },
  {
   "cell_type": "markdown",
   "metadata": {},
   "source": [
    "Threat rates"
   ]
  },
  {
   "cell_type": "code",
   "execution_count": null,
   "metadata": {},
   "outputs": [],
   "source": [
    "#### All data from FRED\n",
    "real_gdp_growth_rate_df = pd.read_csv('data/A191RL1Q225SBEA_real_gross_domestic_product.csv')\n",
    "sticky_inflation_df = pd.read_csv('data/CORESTICKM158SFRBATL_sticky_consumer_price_index_annual_rate_of_change_less_food_and_energy.csv')\n",
    "federal_surplus_or_deficit_percent_gdp_df = pd.read_csv('data/FYFSGDA188S_federal_surplus_or_deficit_as_percent_of_gdp.csv')\n",
    "federal_debt_to_GDP_df = pd.read_csv('data/GFDEGDQ188S_federal_debt_to_GDP.csv')\n",
    "household_debt_to_GDP_df = pd.read_csv('data/HDTGPDUSQ163N_household_debt_to_GPD.csv')\n",
    "nonfarm_number_jobs_df = pd.read_csv('data/PAYEMS_total_nonfarm_jobs.csv')\n",
    "u6_unemployment_df = pd.read_csv('data/U6UNEM6AR_u6_unemployment_rate.csv')\n",
    "u3_unemployment_df = pd.read_csv('data/UNRATE_civilian_unemployment_rate_U3.csv')\n",
    "private_jobs_df = pd.read_csv('data/USPRIV_total_private_jobs.csv')\n",
    "# print 'years: ', my_df['Year'].values, ', type: ', type(my_df['Year'].values[0])\n",
    "# print 'Number of homicides: ', my_df['Number of homicides'].values, ', type: ', type(my_df['Number of homicides'].values[0])\n",
    "\n",
    "\n",
    "real_gdp_growth_rate_df['DATE'] = pd.to_datetime(real_gdp_growth_rate_df['DATE'])\n",
    "real_gdp_growth_rate_df = real_gdp_growth_rate_df.rename(columns={'A191RL1Q225SBEA': 'real_gdp_growth_rate'})\n",
    "sticky_inflation_df['DATE'] = pd.to_datetime(sticky_inflation_df['DATE'])\n",
    "sticky_inflation_df = sticky_inflation_df.rename(columns={'CORESTICKM158SFRBATL': 'sticky_inflation_rate'})\n",
    "federal_surplus_or_deficit_percent_gdp_df['DATE'] = pd.to_datetime(federal_surplus_or_deficit_percent_gdp_df['DATE'])\n",
    "federal_surplus_or_deficit_percent_gdp_df = federal_surplus_or_deficit_percent_gdp_df.rename(columns={'FYFSGDA188S': 'federal_surplus_or_deficit_percent_gdp'})\n",
    "federal_surplus_or_deficit_percent_gdp_df['federal_deficit_percent_gdp'] = -1.*federal_surplus_or_deficit_percent_gdp_df['federal_surplus_or_deficit_percent_gdp']\n",
    "nonfarm_number_jobs_df['DATE'] = pd.to_datetime(nonfarm_number_jobs_df['DATE'])\n",
    "nonfarm_number_jobs_df = nonfarm_number_jobs_df.rename(columns={'PAYEMS': 'thousands_of_jobs_nonfarm'})\n",
    "nonfarm_number_jobs_df['net_new_jobs_thousands_nonfarm'] = nonfarm_number_jobs_df['thousands_of_jobs_nonfarm'].diff()\n",
    "print federal_debt_to_GDP_df"
   ]
  },
  {
   "cell_type": "code",
   "execution_count": null,
   "metadata": {
    "collapsed": true
   },
   "outputs": [],
   "source": [
    "def plot_timeseries(my_df, y_column, xlabel, ylabel, xlim, ylim):\n",
    "    plt.figure(figsize=(16,12))\n",
    "    plt.tick_params(axis='both', which='major', labelsize=16)\n",
    "\n",
    "    plt.grid(True)\n",
    "    plt.plot(my_df['DATE'].values, my_df[y_column].values, linestyle='-', color='black')\n",
    "    plt.xlim(xlim)\n",
    "    if ylim is not None:\n",
    "        plt.ylim(ylim)\n",
    "    plt.xlabel(xlabel, fontsize=24)\n",
    "    plt.ylabel(ylabel, fontsize=24)\n",
    "    plt.show()\n",
    "\n",
    "\n"
   ]
  },
  {
   "cell_type": "code",
   "execution_count": null,
   "metadata": {
    "scrolled": false
   },
   "outputs": [],
   "source": [
    "datetime_lims = [np.datetime64('2000-01-01'), np.datetime64('2020-01-01')]\n",
    "plot_timeseries(real_gdp_growth_rate_df, y_column='real_gdp_growth_rate', xlabel='Date',\n",
    "        ylabel='Real GDP annual growth rate', xlim=datetime_lims, ylim=[-5, 10])\n",
    "\n",
    "plot_timeseries(sticky_inflation_df, y_column='sticky_inflation_rate', xlabel='Date',\n",
    "        ylabel='Sticky inflation rate (excluding food and energy)', xlim=datetime_lims, ylim=[-2, 5])\n",
    "\n",
    "\n",
    "plot_timeseries(federal_surplus_or_deficit_percent_gdp_df, y_column='federal_deficit_percent_gdp', xlabel='Date',\n",
    "        ylabel='Federal deficit as percent of GDP', xlim=datetime_lims, ylim=[-3, 7])\n",
    "\n",
    "plot_timeseries(nonfarm_number_jobs_df, y_column='net_new_jobs_thousands_nonfarm', xlabel='Date',\n",
    "        ylabel='Net new non-farm jobs (thousands)', xlim=datetime_lims, ylim=[-300, 500])\n",
    "\n",
    "\n",
    "# plt.figure(figsize=(16,12))\n",
    "# plt.tick_params(axis='both', which='major', labelsize=16)\n",
    "\n",
    "\n",
    "# plt.grid(True)\n",
    "# plt.plot(real_gdp_growth_rate_df['DATE'].values, real_gdp_growth_rate_df['real_gdp_growth_rate'].values, linestyle='-', color='black', label='Real GDP growth rate')\n",
    "# # plt.plot(my_df['Year'].values, my_df['Gun homicides'].values, linestyle='-', color='red', label='Gun homicides')\n",
    "# # plt.plot(my_df['Year'].values, my_df['Islamic terrorism'].values, linestyle='-', color='blue', label='Islamic terrorist deaths')\n",
    "# # plt.legend(fontsize=24)\n",
    "# # plt.ylim([0, 25000])\n",
    "# plt.xlim([np.datetime64('2000-01-01'), np.datetime64('2020-01-01')])\n",
    "# plt.ylim([-5, 10])\n",
    "\n",
    "\n",
    "# plt.xlabel('Date', fontsize=24)\n",
    "# plt.ylabel('Real GDP growth rate', fontsize=24)\n",
    "# plt.show()\n",
    "\n"
   ]
  },
  {
   "cell_type": "code",
   "execution_count": null,
   "metadata": {},
   "outputs": [],
   "source": [
    "def compare_year_by_year(my_df, y_column, xlabel, ylabel, ylim):\n",
    "    my_df['month'] = my_df['DATE'].dt.month\n",
    "    my_df['year'] = my_df['DATE'].dt.year\n",
    "    \n",
    "    df_2014 = my_df[my_df['year']==2014]\n",
    "    df_2015 = my_df[my_df['year']==2015]\n",
    "    df_2016 = my_df[my_df['year']==2016]\n",
    "    df_2017 = my_df[my_df['year']==2017]\n",
    "\n",
    "    print 'df_2015: ', df_2015\n",
    "\n",
    "    print 'month/year: ', my_df[['month', 'year', y_column]]\n",
    "    \n",
    "    plt.figure(figsize=(16,12))\n",
    "    plt.tick_params(axis='both', which='major', labelsize=16)\n",
    "\n",
    "    plt.grid(True)\n",
    "    plt.plot(df_2014['month'].values, df_2014[y_column].values, linestyle='-', color='black', label='2014')\n",
    "    plt.plot(df_2015['month'].values, df_2015[y_column].values, linestyle='-', color='blue', label='2015')\n",
    "    plt.plot(df_2016['month'].values, df_2016[y_column].values, linestyle='-', color='red', label='2016')\n",
    "    plt.plot(df_2017['month'].values, df_2017[y_column].values, linestyle='-', color='purple', label='2017')\n",
    "\n",
    "\n",
    "\n",
    "\n",
    "    #plt.xlim(xlim)\n",
    "    if ylim is not None:\n",
    "        plt.ylim(ylim)\n",
    "    plt.xlabel(xlabel, fontsize=24)\n",
    "    plt.ylabel(ylabel, fontsize=24)\n",
    "    plt.legend(fontsize=24)\n",
    "    plt.show()"
   ]
  },
  {
   "cell_type": "code",
   "execution_count": null,
   "metadata": {
    "scrolled": false
   },
   "outputs": [],
   "source": [
    "compare_year_by_year(real_gdp_growth_rate_df, y_column='real_gdp_growth_rate', xlabel='Month',\n",
    "        ylabel='Real GDP annual growth rate',  ylim=[-2, 8])\n",
    "compare_year_by_year(sticky_inflation_df, y_column='sticky_inflation_rate', xlabel='Month',\n",
    "        ylabel='Rate of inflation (excluding volatile food and energy)',  ylim=[-2, 8])\n",
    "print 'federal_surplus_or_deficit_percent_gdp_df: ', federal_surplus_or_deficit_percent_gdp_df[['DATE', 'federal_deficit_percent_gdp']]\n",
    "compare_year_by_year(federal_surplus_or_deficit_percent_gdp_df, y_column='federal_deficit_percent_gdp', xlabel='Month',\n",
    "        ylabel='Federal deficit (percent of GDP)',  ylim=[-3, 7])\n",
    "compare_year_by_year(nonfarm_number_jobs_df, y_column='net_new_jobs_thousands_nonfarm', xlabel='Month',\n",
    "        ylabel='Nonfarm monthly job growth (thousands)',  ylim=[0, 500])"
   ]
  },
  {
   "cell_type": "code",
   "execution_count": null,
   "metadata": {
    "collapsed": true
   },
   "outputs": [],
   "source": []
  }
 ],
 "metadata": {
  "kernelspec": {
   "display_name": "Python 2",
   "language": "python",
   "name": "python2"
  },
  "language_info": {
   "codemirror_mode": {
    "name": "ipython",
    "version": 2
   },
   "file_extension": ".py",
   "mimetype": "text/x-python",
   "name": "python",
   "nbconvert_exporter": "python",
   "pygments_lexer": "ipython2",
   "version": "2.7.13"
  }
 },
 "nbformat": 4,
 "nbformat_minor": 2
}
